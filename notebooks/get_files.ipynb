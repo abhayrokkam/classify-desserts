{
 "cells": [
  {
   "cell_type": "code",
   "execution_count": 4,
   "metadata": {},
   "outputs": [
    {
     "name": "stdout",
     "output_type": "stream",
     "text": [
      "Downloaded data_setup.py\n",
      "Downloaded vit.py\n"
     ]
    }
   ],
   "source": [
    "import requests\n",
    "from pathlib import Path\n",
    "\n",
    "file_urls = ['https://raw.githubusercontent.com/abhayrokkam/replicating-vit/refs/heads/main/data_setup.py',\n",
    "              'https://raw.githubusercontent.com/abhayrokkam/replicating-vit/refs/heads/main/vit.py']\n",
    "\n",
    "# Loop through the list of file URLs and download each one\n",
    "for url in file_urls:\n",
    "    response = requests.get(url)\n",
    "    \n",
    "    if response.status_code == 200:\n",
    "        # Extract the filename from the URL\n",
    "        file_name = url.split(\"/\")[-1]\n",
    "        \n",
    "        file_path = Path('../') / file_name\n",
    "        \n",
    "        # Write the content to a local file\n",
    "        with open(file_path, 'wb') as file:\n",
    "            file.write(response.content)\n",
    "        print(f\"Downloaded {file_name}\")\n",
    "    else:\n",
    "        print(f\"Failed to download {url}\")"
   ]
  }
 ],
 "metadata": {
  "kernelspec": {
   "display_name": "Python 3",
   "language": "python",
   "name": "python3"
  },
  "language_info": {
   "codemirror_mode": {
    "name": "ipython",
    "version": 3
   },
   "file_extension": ".py",
   "mimetype": "text/x-python",
   "name": "python",
   "nbconvert_exporter": "python",
   "pygments_lexer": "ipython3",
   "version": "3.12.3"
  }
 },
 "nbformat": 4,
 "nbformat_minor": 2
}
